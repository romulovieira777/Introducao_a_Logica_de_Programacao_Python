{
  "nbformat": 4,
  "nbformat_minor": 0,
  "metadata": {
    "colab": {
      "name": "Laco_de_Repeticao.ipynb",
      "provenance": []
    },
    "kernelspec": {
      "name": "python3",
      "display_name": "Python 3"
    }
  },
  "cells": [
    {
      "cell_type": "markdown",
      "metadata": {
        "id": "qMoTf8QUPwwK"
      },
      "source": [
        "**Laços de Repetição**"
      ]
    },
    {
      "cell_type": "code",
      "metadata": {
        "id": "4jkf5LnIPmPX"
      },
      "source": [
        "# Declarando as Variáveis\n",
        "multiplicador = 5\n",
        "limiteinicio = 1\n",
        "limitesuperior = 10"
      ],
      "execution_count": 36,
      "outputs": []
    },
    {
      "cell_type": "code",
      "metadata": {
        "id": "nuqR3yqhQSHi"
      },
      "source": [
        "# Criando o Cálculo da Tabuada Utilizando o While\n",
        "while limiteinicio <= limitesuperior:\n",
        "  print('The Multiplication of', multiplicador, ' x ', limiteinicio, 'Results In:', multiplicador * limiteinicio)\n",
        "  limiteinicio += 1\n",
        "\n",
        "print('The Multiplication Table: ', multiplicador)"
      ],
      "execution_count": null,
      "outputs": []
    },
    {
      "cell_type": "markdown",
      "metadata": {
        "id": "ztHlxdP0VOdt"
      },
      "source": [
        "**Utilizando o Laço for**\n"
      ]
    },
    {
      "cell_type": "code",
      "metadata": {
        "id": "HiLJwl-URljC"
      },
      "source": [
        "# Declarando as Variáveis\n",
        "numini = 1\n",
        "numfim = 10"
      ],
      "execution_count": 39,
      "outputs": []
    },
    {
      "cell_type": "code",
      "metadata": {
        "id": "xSIK8elbVcJE"
      },
      "source": [
        "# Criando uma Lista Utilizando o for\n",
        "numbers = [record for record in range(numini, numfim + 1)]\n"
      ],
      "execution_count": 40,
      "outputs": []
    },
    {
      "cell_type": "code",
      "metadata": {
        "id": "fTEMVftIV48A"
      },
      "source": [
        "# Imprimindo na Tela o Resultado da Lista Criada\n",
        "numbers"
      ],
      "execution_count": null,
      "outputs": []
    },
    {
      "cell_type": "code",
      "metadata": {
        "id": "J4Y0vo8wWZgm"
      },
      "source": [
        "# Criando uma Calculador Utilizando o for\n",
        "for record in numbers:\n",
        "  print('The Multiplication of', multiplicador, ' x ', record, 'Results in:', multiplicador * record)\n",
        "else:\n",
        "  print('The Multiplication Table', multiplicador)"
      ],
      "execution_count": null,
      "outputs": []
    }
  ]
}