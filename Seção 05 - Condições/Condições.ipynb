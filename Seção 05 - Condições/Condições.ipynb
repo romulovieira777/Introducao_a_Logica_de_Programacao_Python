{
  "nbformat": 4,
  "nbformat_minor": 0,
  "metadata": {
    "colab": {
      "name": "Condições.ipynb",
      "provenance": [],
      "collapsed_sections": []
    },
    "kernelspec": {
      "name": "python3",
      "display_name": "Python 3"
    }
  },
  "cells": [
    {
      "cell_type": "markdown",
      "metadata": {
        "id": "7BQBpebFPyNq"
      },
      "source": [
        "**Condições**"
      ]
    },
    {
      "cell_type": "code",
      "metadata": {
        "id": "kST2iR2oOXvU"
      },
      "source": [
        "# Declarando uma Variável\n",
        "note = 8"
      ],
      "execution_count": 5,
      "outputs": []
    },
    {
      "cell_type": "code",
      "metadata": {
        "colab": {
          "base_uri": "https://localhost:8080/"
        },
        "id": "LCjlAPkEQe41",
        "outputId": "ecb60376-71b9-4459-95c7-b532ff54ca1b"
      },
      "source": [
        "# Criando uma Condição de Verificação da Nota do Aluno\n",
        "if note > 7:\n",
        "  print('Congratulations!')\n",
        "  print('You Passed!')\n",
        "  print('Your Average Was:', note)\n",
        "  print('Keep It Up! :)')\n",
        "else:\n",
        "  print(\"My Friend, You Didn't Pass :(\")\n",
        "  print('Your Avarege Unfortunately Was:', note, 'Point!')"
      ],
      "execution_count": 7,
      "outputs": [
        {
          "output_type": "stream",
          "text": [
            "Congratulations!\n",
            "You Passed!\n",
            "Your Average Was: 8\n",
            "Keep It Up! :)\n"
          ],
          "name": "stdout"
        }
      ]
    },
    {
      "cell_type": "code",
      "metadata": {
        "id": "A7n0cTYgSX89"
      },
      "source": [
        "# Declarando Duas Variáveis\n",
        "sex = 'M'\n",
        "age = 15"
      ],
      "execution_count": 10,
      "outputs": []
    },
    {
      "cell_type": "code",
      "metadata": {
        "colab": {
          "base_uri": "https://localhost:8080/"
        },
        "id": "QY5puKV5Tw4f",
        "outputId": "8dbf65bd-c7bc-4d29-a829-073e72a77670"
      },
      "source": [
        "# Criando uma Condição de Verificação do Sexo e Idade\n",
        "if sex == 'M' and age >= 15 and age <= 16:\n",
        "  print('Join The Team!')\n",
        "else:\n",
        "  print('You Cannot Join The Team!')"
      ],
      "execution_count": 11,
      "outputs": [
        {
          "output_type": "stream",
          "text": [
            "Join The Team!\n"
          ],
          "name": "stdout"
        }
      ]
    },
    {
      "cell_type": "code",
      "metadata": {
        "colab": {
          "base_uri": "https://localhost:8080/"
        },
        "id": "dLFxRZJjU8uZ",
        "outputId": "738376a0-deef-414c-e78b-801f17805fe8"
      },
      "source": [
        "# Criando uma Condição de Verificação do Sexo e Idade\n",
        "if sex == 'M' or (age >= 15 and age <= 16):\n",
        "  print('Join The Team!')\n",
        "else:\n",
        "  print('You Cannot Join The Team!')"
      ],
      "execution_count": 13,
      "outputs": [
        {
          "output_type": "stream",
          "text": [
            "Join The Team!\n"
          ],
          "name": "stdout"
        }
      ]
    },
    {
      "cell_type": "code",
      "metadata": {
        "id": "tSF-8lVdWK75"
      },
      "source": [
        "# Declarando Duas Variáveis\n",
        "sex = 'M'\n",
        "age = 3"
      ],
      "execution_count": 14,
      "outputs": []
    },
    {
      "cell_type": "code",
      "metadata": {
        "colab": {
          "base_uri": "https://localhost:8080/"
        },
        "id": "v60YhGFQXmSW",
        "outputId": "6bfa17e5-e40f-41c6-9c52-81c648b61832"
      },
      "source": [
        "# Criando uma Condição de Verificação do Sexo e Idade\n",
        "if sex == 'M' and age <= 10:\n",
        "  print('Cart!')\n",
        "elif sex == 'M' and age > 10:\n",
        "  print('Bicycle!')\n",
        "elif sex == 'F' and age <= 10:\n",
        "  print('Doll!')\n",
        "elif sex == 'F' and age > 10:\n",
        "  print('Cell Phone!')\n",
        "else:\n",
        "  print('Not Valid!')"
      ],
      "execution_count": 17,
      "outputs": [
        {
          "output_type": "stream",
          "text": [
            "Cart!\n"
          ],
          "name": "stdout"
        }
      ]
    },
    {
      "cell_type": "code",
      "metadata": {
        "colab": {
          "base_uri": "https://localhost:8080/"
        },
        "id": "WNwhcvu5ZCUT",
        "outputId": "b5bed3d7-c64f-442c-8af8-73ea73b1af51"
      },
      "source": [
        "# Criando uma Condição de Verificação do Sexo e Idade\n",
        "if sex == 'M':\n",
        "  if age <= 10:\n",
        "    print('Cart!')\n",
        "  else:\n",
        "    print('Bicycle!')\n",
        "elif sex == 'F':\n",
        "   if age <= 10:\n",
        "    print('Doll!')\n",
        "   else:\n",
        "     print('Cell Phone!')\n",
        "else:\n",
        "  print('Not Valid!')"
      ],
      "execution_count": 20,
      "outputs": [
        {
          "output_type": "stream",
          "text": [
            "Cart!\n"
          ],
          "name": "stdout"
        }
      ]
    }
  ]
}