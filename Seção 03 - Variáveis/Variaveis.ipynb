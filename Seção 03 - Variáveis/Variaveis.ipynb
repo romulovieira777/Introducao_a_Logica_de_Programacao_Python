{
  "nbformat": 4,
  "nbformat_minor": 0,
  "metadata": {
    "colab": {
      "name": "Variaveis.ipynb",
      "provenance": []
    },
    "kernelspec": {
      "name": "python3",
      "display_name": "Python 3"
    }
  },
  "cells": [
    {
      "cell_type": "markdown",
      "metadata": {
        "id": "b-Cw8HKhDRt0"
      },
      "source": [
        "**Estudando Variáveis**"
      ]
    },
    {
      "cell_type": "markdown",
      "metadata": {
        "id": "ZtEkGkGmEj2R"
      },
      "source": [
        "**Equações**"
      ]
    },
    {
      "cell_type": "code",
      "metadata": {
        "id": "BCPKnVkyDXmv"
      },
      "source": [
        "# Equação de 1º Grau : 8 = x + 3"
      ],
      "execution_count": null,
      "outputs": []
    },
    {
      "cell_type": "code",
      "metadata": {
        "id": "Nbnj2WZDDues"
      },
      "source": [
        "# Equação de 2º Grau : x = y + 3"
      ],
      "execution_count": null,
      "outputs": []
    },
    {
      "cell_type": "markdown",
      "metadata": {
        "id": "EtF5y0QwEmt4"
      },
      "source": [
        "**Variáveis**"
      ]
    },
    {
      "cell_type": "code",
      "metadata": {
        "id": "LuGe8v21Dy9c"
      },
      "source": [
        "# Criando uma Variável\n",
        "x = 5"
      ],
      "execution_count": null,
      "outputs": []
    },
    {
      "cell_type": "code",
      "metadata": {
        "colab": {
          "base_uri": "https://localhost:8080/"
        },
        "id": "HDyCYz-EE0tp",
        "outputId": "6ddd65aa-2f81-4a8c-e8d5-553679de746a"
      },
      "source": [
        "# Chamando uma Variável\n",
        "x"
      ],
      "execution_count": null,
      "outputs": [
        {
          "output_type": "execute_result",
          "data": {
            "text/plain": [
              "5"
            ]
          },
          "metadata": {
            "tags": []
          },
          "execution_count": 6
        }
      ]
    },
    {
      "cell_type": "code",
      "metadata": {
        "colab": {
          "base_uri": "https://localhost:8080/"
        },
        "id": "c1Hm60SrE6BE",
        "outputId": "fe0047ad-f196-4b27-d4a6-e8a8ccd8d12c"
      },
      "source": [
        "# Realizando uma Operação de Adição com a Variável Criada\n",
        "x + 2"
      ],
      "execution_count": null,
      "outputs": [
        {
          "output_type": "execute_result",
          "data": {
            "text/plain": [
              "7"
            ]
          },
          "metadata": {
            "tags": []
          },
          "execution_count": 7
        }
      ]
    },
    {
      "cell_type": "code",
      "metadata": {
        "colab": {
          "base_uri": "https://localhost:8080/"
        },
        "id": "gPQ5_m50FDZz",
        "outputId": "c5c4045d-3672-4079-fc0d-76a649966e87"
      },
      "source": [
        "# Realizando uma Operação de Subtração com a Variável Criada\n",
        "x - 2"
      ],
      "execution_count": null,
      "outputs": [
        {
          "output_type": "execute_result",
          "data": {
            "text/plain": [
              "3"
            ]
          },
          "metadata": {
            "tags": []
          },
          "execution_count": 8
        }
      ]
    },
    {
      "cell_type": "code",
      "metadata": {
        "colab": {
          "base_uri": "https://localhost:8080/"
        },
        "id": "k0P75ezAFRKc",
        "outputId": "484c0ef1-dd83-4cc7-b08b-b2365498cf6e"
      },
      "source": [
        "# Realizando uma Operação de Multiplicação com a Variável Criada\n",
        "x * 2"
      ],
      "execution_count": null,
      "outputs": [
        {
          "output_type": "execute_result",
          "data": {
            "text/plain": [
              "10"
            ]
          },
          "metadata": {
            "tags": []
          },
          "execution_count": 9
        }
      ]
    },
    {
      "cell_type": "code",
      "metadata": {
        "colab": {
          "base_uri": "https://localhost:8080/"
        },
        "id": "kqIQq1L1FaXx",
        "outputId": "b93391f6-dc0c-43c1-f911-0e05e53fb51c"
      },
      "source": [
        "# Realizando uma Operação de Divisão com a Variável Criada\n",
        "x / 2"
      ],
      "execution_count": null,
      "outputs": [
        {
          "output_type": "execute_result",
          "data": {
            "text/plain": [
              "2.5"
            ]
          },
          "metadata": {
            "tags": []
          },
          "execution_count": 10
        }
      ]
    },
    {
      "cell_type": "markdown",
      "metadata": {
        "id": "J8lpfCyuHeHm"
      },
      "source": [
        "**Trabalhando com Variáveis Numéricas**"
      ]
    },
    {
      "cell_type": "code",
      "metadata": {
        "id": "2FZY8ehmFgKQ"
      },
      "source": [
        "# Declarando Duas Variáveis\n",
        "x = 14\n",
        "y = 3"
      ],
      "execution_count": null,
      "outputs": []
    },
    {
      "cell_type": "code",
      "metadata": {
        "colab": {
          "base_uri": "https://localhost:8080/"
        },
        "id": "38vtJpPZHtSZ",
        "outputId": "163cbc1a-7020-493a-b7db-ca527bec5cad"
      },
      "source": [
        "# Realizando uma Operação de Divisão de Duas Variáveis\n",
        "x / y"
      ],
      "execution_count": null,
      "outputs": [
        {
          "output_type": "execute_result",
          "data": {
            "text/plain": [
              "4.666666666666667"
            ]
          },
          "metadata": {
            "tags": []
          },
          "execution_count": 12
        }
      ]
    },
    {
      "cell_type": "markdown",
      "metadata": {
        "id": "x7m6apDQICNY"
      },
      "source": [
        "**Tipos de Variáveis**"
      ]
    },
    {
      "cell_type": "code",
      "metadata": {
        "id": "a3PXIzL-HuuB"
      },
      "source": [
        "# Declarando Duas Variáveis com String\n",
        "x = str(1)\n",
        "y = str(1)"
      ],
      "execution_count": null,
      "outputs": []
    },
    {
      "cell_type": "code",
      "metadata": {
        "colab": {
          "base_uri": "https://localhost:8080/",
          "height": 35
        },
        "id": "1i4VmDFtIUR2",
        "outputId": "d8a4032f-6953-43a7-e138-b02aded15d43"
      },
      "source": [
        "# Realizando uma Operação de Concatenação entre as Duas Variáveis\n",
        "x + y"
      ],
      "execution_count": null,
      "outputs": [
        {
          "output_type": "execute_result",
          "data": {
            "application/vnd.google.colaboratory.intrinsic+json": {
              "type": "string"
            },
            "text/plain": [
              "'11'"
            ]
          },
          "metadata": {
            "tags": []
          },
          "execution_count": 14
        }
      ]
    },
    {
      "cell_type": "code",
      "metadata": {
        "id": "cnh845FiIiPF"
      },
      "source": [
        "# Declarando Duas Variáveis como Inteiro\n",
        "x = int(1)\n",
        "y = int(1)"
      ],
      "execution_count": null,
      "outputs": []
    },
    {
      "cell_type": "code",
      "metadata": {
        "colab": {
          "base_uri": "https://localhost:8080/"
        },
        "id": "LVyh_VN5I8-U",
        "outputId": "cc7b0af2-4433-45cb-8efc-b217c374d751"
      },
      "source": [
        "# Realizando uma Operação de Soma entre Duas Varáveis\n",
        "x + y"
      ],
      "execution_count": null,
      "outputs": [
        {
          "output_type": "execute_result",
          "data": {
            "text/plain": [
              "2"
            ]
          },
          "metadata": {
            "tags": []
          },
          "execution_count": 16
        }
      ]
    },
    {
      "cell_type": "code",
      "metadata": {
        "id": "Pn5Eu6OZJFVi"
      },
      "source": [
        "# Declarando Duas Variáveis como Ponto Flutuante\n",
        "x = float(1.6)\n",
        "y = float(1.4)"
      ],
      "execution_count": null,
      "outputs": []
    },
    {
      "cell_type": "code",
      "metadata": {
        "colab": {
          "base_uri": "https://localhost:8080/"
        },
        "id": "5Ui8-1zxJuj5",
        "outputId": "3180abc8-c00b-4e94-aac7-2239f3d5008b"
      },
      "source": [
        "# Realizando uma Operação de Soma entre Duas Variáveis\n",
        "x + y"
      ],
      "execution_count": null,
      "outputs": [
        {
          "output_type": "execute_result",
          "data": {
            "text/plain": [
              "3.0"
            ]
          },
          "metadata": {
            "tags": []
          },
          "execution_count": 18
        }
      ]
    }
  ]
}