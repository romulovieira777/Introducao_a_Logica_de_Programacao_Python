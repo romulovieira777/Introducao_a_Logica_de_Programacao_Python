{
  "nbformat": 4,
  "nbformat_minor": 0,
  "metadata": {
    "colab": {
      "name": "Print.ipynb",
      "provenance": [],
      "collapsed_sections": []
    },
    "kernelspec": {
      "name": "python3",
      "display_name": "Python 3"
    }
  },
  "cells": [
    {
      "cell_type": "markdown",
      "metadata": {
        "id": "G6tijhAzKRyX"
      },
      "source": [
        "**Função Print**"
      ]
    },
    {
      "cell_type": "code",
      "metadata": {
        "id": "Nxo5aEXIKRA0"
      },
      "source": [
        "# Declarando Duas Variáveis como Ponto Flutuante\n",
        "x = float(1.6)\n",
        "y = float(1.4)"
      ],
      "execution_count": null,
      "outputs": []
    },
    {
      "cell_type": "code",
      "metadata": {
        "colab": {
          "base_uri": "https://localhost:8080/"
        },
        "id": "U813WCiVKkWX",
        "outputId": "4234507b-3cb1-482b-8cc2-39ebb1021a12"
      },
      "source": [
        "# Chamando o Resultado das Variáveis para Impressão na Tela\n",
        "print('O Processo foi Concluído em:' ,x + y,'Minutos')"
      ],
      "execution_count": null,
      "outputs": [
        {
          "output_type": "stream",
          "text": [
            "O Processo foi Concluído em: 3.0 Minutos\n"
          ],
          "name": "stdout"
        }
      ]
    },
    {
      "cell_type": "markdown",
      "metadata": {
        "id": "O681LXydLjgt"
      },
      "source": [
        "**Função Input**"
      ]
    },
    {
      "cell_type": "code",
      "metadata": {
        "colab": {
          "base_uri": "https://localhost:8080/"
        },
        "id": "jD87hxLHLETF",
        "outputId": "373daa24-0d8b-4279-e346-89d1fa29e822"
      },
      "source": [
        "# Declarando uma Variável com Input\n",
        "x = input('Digite sua Senha com Letras e Números: ')"
      ],
      "execution_count": null,
      "outputs": [
        {
          "output_type": "stream",
          "text": [
            "Digite sua Senha com Letras e Números: 777\n"
          ],
          "name": "stdout"
        }
      ]
    },
    {
      "cell_type": "code",
      "metadata": {
        "colab": {
          "base_uri": "https://localhost:8080/"
        },
        "id": "92ukQ4TSMJ9f",
        "outputId": "b7037969-0c2e-495f-882b-bd00cf7cdf12"
      },
      "source": [
        "# Chamando o Resultado da Variável Criada para Impressão na Tela\n",
        "print('A Senha Digitada foi', x, 'Confere ? [Y / N]')"
      ],
      "execution_count": null,
      "outputs": [
        {
          "output_type": "stream",
          "text": [
            "A Senha Digitada foi 777 Confere ? [Y / N]\n"
          ],
          "name": "stdout"
        }
      ]
    },
    {
      "cell_type": "code",
      "metadata": {
        "colab": {
          "base_uri": "https://localhost:8080/"
        },
        "id": "ljU9kNi8MdWQ",
        "outputId": "8da7e199-83f0-442a-ba46-7900137e1470"
      },
      "source": [
        "# Declarando uma Variável String com Input\n",
        "x = input('Digite um Número para Multiplicar com 3: ')"
      ],
      "execution_count": null,
      "outputs": [
        {
          "output_type": "stream",
          "text": [
            "Digite um Número para Multiplicar com 3: 2\n"
          ],
          "name": "stdout"
        }
      ]
    },
    {
      "cell_type": "code",
      "metadata": {
        "colab": {
          "base_uri": "https://localhost:8080/"
        },
        "id": "ni1ymzkRM7fl",
        "outputId": "a8532dae-d438-4631-b5ff-b51dd655a767"
      },
      "source": [
        "# Chamando o Resultado da Variável Criada para Impressão na Tela\n",
        "# Observação a Operação que está Acontecendo é de Multiplicação da String e não dos Números: 3 * 2 = 222, se fosse Número o Correto seria 3 * 2 = 6\n",
        "print('A Multiplicação é:', x * 3)"
      ],
      "execution_count": null,
      "outputs": [
        {
          "output_type": "stream",
          "text": [
            "A Multiplicação é: 222\n"
          ],
          "name": "stdout"
        }
      ]
    },
    {
      "cell_type": "code",
      "metadata": {
        "colab": {
          "base_uri": "https://localhost:8080/"
        },
        "id": "e29eXQ48NmmY",
        "outputId": "122978f1-b124-4913-d775-3d4e43fc00ad"
      },
      "source": [
        "# Declarando uma Variável Inteira com Input\n",
        "x = int(input('Digite um Número para Multiplicar com 3: '))"
      ],
      "execution_count": null,
      "outputs": [
        {
          "output_type": "stream",
          "text": [
            "Digite um Número para Multiplicar com 3: 3\n"
          ],
          "name": "stdout"
        }
      ]
    },
    {
      "cell_type": "code",
      "metadata": {
        "colab": {
          "base_uri": "https://localhost:8080/"
        },
        "id": "kg3V2cJyOCVZ",
        "outputId": "53aa493d-5a68-4179-dab5-98dddb14d40f"
      },
      "source": [
        "# Chamando o Resultado da Variável Criada para Impressão na Tela\n",
        "print('A Multiplicação é:', x * 3)"
      ],
      "execution_count": null,
      "outputs": [
        {
          "output_type": "stream",
          "text": [
            "A Multiplicação é: 9\n"
          ],
          "name": "stdout"
        }
      ]
    }
  ]
}